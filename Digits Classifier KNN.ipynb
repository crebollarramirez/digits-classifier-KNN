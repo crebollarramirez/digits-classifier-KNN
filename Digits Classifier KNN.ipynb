{
 "cells": [
  {
   "cell_type": "markdown",
   "metadata": {},
   "source": [
    "# K-Nearest Neighbors Digits Classifiers\n"
   ]
  },
  {
   "cell_type": "markdown",
   "metadata": {},
   "source": [
    "### Goal\n",
    "\n",
    "The primary objective of this project is to develop a robust digits classification system utilizing the K-Nearest Neighbors (KNN) model. The classifier aims to accurately identify handwritten digits based on pixel intensity values provided in the dataset. By leveraging the simplicity and effectiveness of KNN, this project seeks to:\n",
    "\n",
    "- **Understand and implement the KNN algorithm**: Explore its working principles, including distance metrics and the impact of the number of neighbors (k) on classification performance.\n",
    "- **Evaluate the classifier's performance**: Measure accuracy, precision, recall, and other metrics to assess the effectiveness of the model on training and testing datasets.\n",
    "- **Optimize and fine-tune hyperparameters**: Experiment with different values of `k` and distance metrics to identify configurations that maximize accuracy.\n",
    "- **Visualize results and insights**: Present key findings through visualizations, including confusion matrices, performance plots, and classification examples.\n",
    "\n",
    "This project serves as a practical exploration of supervised machine learning techniques, focusing on real-world applications of image recognition and pattern classification.\n"
   ]
  },
  {
   "cell_type": "markdown",
   "metadata": {},
   "source": [
    "## Imports for this project\n"
   ]
  },
  {
   "cell_type": "code",
   "execution_count": 104,
   "metadata": {},
   "outputs": [],
   "source": [
    "from sklearn.datasets import load_wine\n",
    "import numpy as np\n",
    "import matplotlib.pyplot as plt\n",
    "import pandas as pd\n",
    "import numpy as np\n",
    "import sklearn.datasets\n",
    "from sklearn.model_selection import train_test_split\n",
    "from sklearn.metrics import  accuracy_score\n",
    "import matplotlib.pyplot as plt\n",
    "from sklearn.model_selection import KFold\n",
    "from sklearn.neighbors import KNeighborsClassifier\n",
    "%matplotlib inline"
   ]
  },
  {
   "cell_type": "markdown",
   "metadata": {},
   "source": [
    "## Lets load dataset from MNIST dataset.\n"
   ]
  },
  {
   "cell_type": "code",
   "execution_count": 105,
   "metadata": {},
   "outputs": [],
   "source": [
    "mnist = sklearn.datasets.fetch_openml(\"mnist_784\")\n",
    "x = mnist.data.to_numpy(dtype=np.int64)\n",
    "y = mnist.target.to_numpy(dtype=np.int64)"
   ]
  },
  {
   "cell_type": "markdown",
   "metadata": {},
   "source": [
    "## Separate training and testing data randomly.\n"
   ]
  },
  {
   "cell_type": "code",
   "execution_count": 106,
   "metadata": {},
   "outputs": [
    {
     "name": "stdout",
     "output_type": "stream",
     "text": [
      "(2000, 784)\n",
      "(500, 784)\n",
      "(2000,)\n",
      "(500,)\n"
     ]
    }
   ],
   "source": [
    "X_train, X_test, Y_train, Y_test = train_test_split(\n",
    "    x[:2500], y[:2500], test_size=0.2, random_state=123, stratify=y[:2500]\n",
    ")\n",
    "print(X_train.shape)\n",
    "print(X_test.shape)\n",
    "print(Y_train.shape)\n",
    "print(Y_test.shape)"
   ]
  },
  {
   "cell_type": "markdown",
   "metadata": {},
   "source": [
    "## Using K-Nearest Neighbors (KNN) with scikit-learn\n",
    "\n",
    "In this code snippet, we perform the following steps:\n",
    "\n",
    "1. **Initialize the K-Nearest Neighbors (KNN) Classifier**  \n",
    "   We create a KNN model using scikit-learn, specifying `n_neighbors=5`, which means the algorithm will consider the 5 nearest neighbors for classification.\n",
    "\n",
    "2. **Train the KNN Model**  \n",
    "   The model is trained using the training dataset (`X_train` and `Y_train`).\n",
    "\n",
    "3. **Evaluate the Model**  \n",
    "   We calculate the accuracy of the model on the test dataset (`X_test` and `Y_test`) using the `score` method.\n",
    "\n",
    "4. **Output the Accuracy**  \n",
    "   Finally, we print the model's accuracy score, which measures how well the classifier performed on the test data.\n"
   ]
  },
  {
   "cell_type": "code",
   "execution_count": 107,
   "metadata": {},
   "outputs": [
    {
     "name": "stdout",
     "output_type": "stream",
     "text": [
      "sklearn_knn_score: 0.912\n"
     ]
    }
   ],
   "source": [
    "sklearn_knn = KNeighborsClassifier(n_neighbors=5)\n",
    "sklearn_knn.fit(X_train, Y_train)\n",
    "sklearn_knn_score = sklearn_knn.score(X_test, Y_test)\n",
    "print(\"sklearn_knn_score:\", sklearn_knn_score)"
   ]
  },
  {
   "cell_type": "markdown",
   "metadata": {},
   "source": [
    "## k-Nearest Neighbors (KNN) Class Implementation\n",
    "\n",
    "Now let's create our own KNN and compare it with sklearn KNN.\n",
    "\n",
    "This class implements the k-Nearest Neighbors (KNN) algorithm for supervised learning. The class includes methods for training, predicting, and evaluating the model's performance. The distance metric used is the Euclidean (L2) norm.\n",
    "\n",
    "Euclidean (L2) norm distance formula:\n",
    "$$\n",
    "\\|\\mathbf{x_2} - \\mathbf{x_1}\\|_2 = \\sqrt{\\sum_{i=1}^n (x_{2,i} - x_{1,i})^2}\n",
    "$$\n",
    "\n",
    "Where $\\mathbf{x_1} = [x_{1,1}, x_{1,2}, \\ldots, x_{1,n}]$ and $\\mathbf{x_2} = [x_{2,1}, x_{2,2}, \\ldots, x_{2,n}]$ are vectors in $n$-dimensional space.\n",
    "\n",
    "\n",
    "\n",
    "### Class and Method Descriptions\n",
    "\n",
    "#### `class knn`\n",
    "The `knn` class encapsulates the logic for a KNN model, allowing initialization with a specified number of neighbors (`k`), training on labeled data, and predictions for unseen data.\n",
    "\n",
    "#### **Attributes**\n",
    "- `k` (`int`): The number of nearest neighbors to consider.\n",
    "- `X_train` (`np.ndarray` or `None`): Training feature data.\n",
    "- `Y_train` (`np.ndarray` or `None`): Training labels.\n",
    "\n",
    "---\n",
    "\n",
    "### Methods\n",
    "\n",
    "#### `__init__(self, k)`\n",
    "Initializes the KNN model.\n",
    "- **Parameters:**\n",
    "  - `k` (`int`): The number of nearest neighbors to consider.\n",
    "\n",
    "#### `fit(self, X, Y)`\n",
    "Stores the training data for later use in predictions.\n",
    "- **Parameters:**\n",
    "  - `X` (`np.ndarray`): Feature matrix for training data.\n",
    "  - `Y` (`np.ndarray`): Labels for training data.\n",
    "\n",
    "#### `distance(self, x1, x2)`\n",
    "Calculates the Euclidean (L2) distance between two data points.\n",
    "- **Parameters:**\n",
    "  - `x1` (`np.ndarray`): The first data point.\n",
    "  - `x2` (`np.ndarray`): The second data point.\n",
    "- **Returns:**\n",
    "  - `float`: The Euclidean distance between `x1` and `x2`.\n",
    "\n",
    "#### `most_common_number(self, nums)`\n",
    "Finds the most common number in a list.\n",
    "- **Parameters:**\n",
    "  - `nums` (`list` or `np.ndarray`): List of numbers.\n",
    "- **Returns:**\n",
    "  - `int`: The most frequently occurring number in the input.\n",
    "\n",
    "#### `predict(self, x_test)`\n",
    "Predicts the labels for a set of test examples based on the k nearest neighbors.\n",
    "- **Parameters:**\n",
    "  - `x_test` (`np.ndarray`): Feature matrix for test data.\n",
    "- **Returns:**\n",
    "  - `np.ndarray`: Predicted labels for the test data.\n",
    "\n",
    "#### `score(self, x_test, y_test)`\n",
    "Calculates the accuracy of the model on test data.\n",
    "- **Parameters:**\n",
    "  - `x_test` (`np.ndarray`): Feature matrix for test data.\n",
    "  - `y_test` (`np.ndarray`): True labels for test data.\n",
    "- **Returns:**\n",
    "  - `float`: The proportion of correctly predicted labels.\n",
    "\n",
    "#### `getAccuracy(self, y1, y2)`\n",
    "Computes the accuracy given two lists of labels.\n",
    "- **Parameters:**\n",
    "  - `y1` (`np.ndarray`): Predicted labels.\n",
    "  - `y2` (`np.ndarray`): True labels.\n",
    "- **Returns:**\n",
    "  - `float`: The proportion of matching labels between `y1` and `y2`.\n",
    "\n",
    "---\n",
    "\n",
    "### Notes\n",
    "1. **Distance Metric:** The `distance` method uses the Euclidean (L2) norm to calculate the distance between data points.\n",
    "2. **Prediction Logic:** The model predicts the label of a test example by finding the `k` nearest training examples and selecting the most common label among them.\n",
    "3. **Evaluation:** Both `score` and `getAccuracy` methods can be used to evaluate the model's performance, with `score` providing a built-in evaluation pipeline.\n",
    "4. **Input Assumptions:**\n",
    "   - Training and test datasets (`X_train`, `x_test`) are numpy arrays of compatible dimensions.\n",
    "   - Labels (`Y_train`, `y_test`) are integers or categorical values encoded as integers.\n",
    "\n",
    "---\n",
    "\n"
   ]
  },
  {
   "cell_type": "code",
   "execution_count": 108,
   "metadata": {},
   "outputs": [],
   "source": [
    "class knn:\n",
    "\tdef __init__(self, k):\n",
    "\t\tself.k = k\n",
    "\t\tself.X_train = None\n",
    "\t\tself.Y_train = None\n",
    "\n",
    "\tdef fit(self, X, Y):\n",
    "\t\tself.X_train = X\n",
    "\t\tself.Y_train = Y\n",
    "\n",
    "\tdef distance(self, x1, x2):\n",
    "\t\treturn np.linalg.norm(x2 - x1)\n",
    "\t\n",
    "\tdef most_common_number(self, nums):\n",
    "\t\tcount_dict = {}\n",
    "\t\tmax_count = 0\n",
    "\t\tmost_common_num = None\n",
    "\t\t\n",
    "\t\tfor num in nums:\n",
    "\t\t\tif num in count_dict:\n",
    "\t\t\t\tcount_dict[num] += 1\n",
    "\t\t\telse:\n",
    "\t\t\t\tcount_dict[num] = 1\n",
    "\t\t\t\n",
    "\t\t\tif count_dict[num] > max_count:\n",
    "\t\t\t\tmax_count = count_dict[num]\n",
    "\t\t\t\tmost_common_num = num\n",
    "\t\t\n",
    "\t\treturn most_common_num\n",
    "\n",
    "\tdef predict(self, x_test):\n",
    "\t\tprediction = np.empty(x_test.shape[0])\n",
    "\n",
    "\t\tfor i in range(x_test.shape[0]):\n",
    "\t\t\tdistances = np.array([self.distance(x_train, x_test[i]) for x_train in self.X_train])\n",
    "\n",
    "\t\t\tsorted_dist_index = distances.argsort()[:self.k]\n",
    "\t\t\tnearest_labels = self.Y_train[sorted_dist_index]\n",
    "\t\t\tprediction[i] = self.most_common_number(nearest_labels)\n",
    "\n",
    "\t\treturn prediction\n",
    "\t\t\n",
    "\tdef score(self, x_test, y_test):\n",
    "\t\tpredicted = self.predict(x_test)\n",
    "\t\tcorrect = 0\n",
    "\t\n",
    "\t\tfor i in range(len(x_test)):\n",
    "\t\t\tif predicted[i] == y_test[i]:\n",
    "\t\t\t\tcorrect += 1\n",
    "\n",
    "\t\treturn correct/len(x_test)\n",
    "\t\n",
    "\tdef getAccuracy(self, y1, y2):\n",
    "\t\tcorrect = 0\n",
    "\n",
    "\t\tfor i in range(len(y1)):\n",
    "\t\t\tif y1[i] == y2[i]:\n",
    "\t\t\t\tcorrect += 1\n",
    "\n",
    "\t\treturn correct/len(y1)"
   ]
  },
  {
   "cell_type": "markdown",
   "metadata": {},
   "source": [
    "## Compare accuracy scores of our KNN and sklearn KNN models"
   ]
  },
  {
   "cell_type": "code",
   "execution_count": 109,
   "metadata": {},
   "outputs": [
    {
     "name": "stdout",
     "output_type": "stream",
     "text": [
      "our knn score: 0.914\n",
      "sklearn knn score: 0.912\n"
     ]
    }
   ],
   "source": [
    "our_knn = knn(k = 5)\n",
    "our_knn.fit(X_train, Y_train)\n",
    "our_knn_score = our_knn.score(X_test, Y_test)\n",
    "print(\"our knn score:\", our_knn_score)\n",
    "print(\"sklearn knn score:\", sklearn_knn_score)"
   ]
  },
  {
   "cell_type": "markdown",
   "metadata": {},
   "source": [
    "## Let's visualize the images that are being misclassifed. \n",
    "\n",
    "We will compare the misclassifed digits with the correct ones. This will helps us see the potential problems of our model. "
   ]
  },
  {
   "cell_type": "code",
   "execution_count": 110,
   "metadata": {},
   "outputs": [],
   "source": [
    "Y_pred = our_knn.predict(X_test)\n",
    "\n",
    "incorrect = [i for i, x in enumerate(Y_pred!=Y_test) if x]\n",
    "correct = [i for i, x in enumerate(Y_pred==Y_test) if x]"
   ]
  },
  {
   "cell_type": "markdown",
   "metadata": {},
   "source": [
    "### Incorrect Digits"
   ]
  },
  {
   "cell_type": "code",
   "execution_count": 111,
   "metadata": {},
   "outputs": [
    {
     "data": {
      "image/png": "[encoded data removed]",
      "text/plain": [
       "<Figure size 2000x2000 with 8 Axes>"
      ]
     },
     "metadata": {},
     "output_type": "display_data"
    }
   ],
   "source": [
    "NUM_OF_IMAGES = 8 # number of images to display\n",
    "_, axes = plt.subplots(nrows=1, ncols=NUM_OF_IMAGES, figsize=(20, 20))\n",
    "START = 0 # start index of the images to display\n",
    "for ax, ind in zip(axes, list(range(START,START+NUM_OF_IMAGES))):\n",
    "    ax.set_axis_off()\n",
    "    image = X_test[incorrect[ind]].reshape(28, 28)\n",
    "    ax.imshow(image, cmap=plt.cm.gray_r, interpolation=\"nearest\")\n",
    "    ax.set_title(f\"Prediction: {Y_pred[incorrect[ind]]}\")"
   ]
  },
  {
   "cell_type": "markdown",
   "metadata": {},
   "source": [
    "### Correct Digits"
   ]
  },
  {
   "cell_type": "code",
   "execution_count": 112,
   "metadata": {},
   "outputs": [
    {
     "data": {
      "image/png": "[encoded data removed]",
      "text/plain": [
       "<Figure size 2000x2000 with 8 Axes>"
      ]
     },
     "metadata": {},
     "output_type": "display_data"
    }
   ],
   "source": [
    "_, axes = plt.subplots(nrows=1, ncols=NUM_OF_IMAGES, figsize=(20, 20))\n",
    "START = 120 # start index of the images to display\n",
    "for ax, ind in zip(axes, list(range(START,START+NUM_OF_IMAGES))):\n",
    "    ax.set_axis_off()\n",
    "    image = X_test[correct[ind]].reshape(28, 28)\n",
    "    ax.imshow(image, cmap=plt.cm.gray_r, interpolation=\"nearest\")\n",
    "    ax.set_title(f\"Prediction: {Y_pred[correct[ind]]}\")"
   ]
  },
  {
   "cell_type": "markdown",
   "metadata": {},
   "source": [
    "## Testing different k values with our own KNN\n",
    "We will be trying different k values and see how the accuracy changes.\n",
    "The values `k` would be [2, 5, 9, 11, 15]\n"
   ]
  },
  {
   "cell_type": "code",
   "execution_count": 113,
   "metadata": {},
   "outputs": [
    {
     "name": "stdout",
     "output_type": "stream",
     "text": [
      "Train Accuracy:  [1.0, 0.9445, 0.9245, 0.9195, 0.9075]\n",
      "Test Accuracy:  [0.912, 0.914, 0.902, 0.9, 0.892]\n"
     ]
    },
    {
     "data": {
      "image/png": "[encoded data removed]",
      "text/plain": [
       "<Figure size 1000x600 with 1 Axes>"
      ]
     },
     "metadata": {},
     "output_type": "display_data"
    }
   ],
   "source": [
    "k_values = [2,5,9,11,15]\n",
    "trainAccur = []\n",
    "testAccur = []\n",
    "\n",
    "for k in k_values:\n",
    "    myKnn = knn(k)\n",
    "    myKnn.fit(X_train, Y_train)\n",
    "\n",
    "    y_train_pred = myKnn.predict(X_train)\n",
    "    train_accuracy = myKnn.getAccuracy(Y_train, y_train_pred)\n",
    "    trainAccur.append(train_accuracy)\n",
    "\n",
    "    y_test_pred = myKnn.predict(X_test)\n",
    "    test_accuracy = myKnn.getAccuracy(Y_test, y_test_pred)\n",
    "    testAccur.append(test_accuracy)\n",
    "\n",
    "print(\"Train Accuracy: \",trainAccur)\n",
    "print(\"Test Accuracy: \",testAccur)\n",
    "\n",
    "plt.figure(figsize=(10, 6))\n",
    "plt.plot(k_values, trainAccur, marker='o', label='Training Accuracy')\n",
    "plt.plot(k_values, testAccur, marker='o', label='Test Accuracy')\n",
    "plt.xlabel('k values')\n",
    "plt.ylabel('Accuracy')\n",
    "plt.title('Training and Test Accuracies for Different k values')\n",
    "plt.legend()\n",
    "plt.grid(True)\n",
    "plt.show()"
   ]
  },
  {
   "cell_type": "markdown",
   "metadata": {},
   "source": [
    "## Custom k-Nearest Neighbors (KNN) with Cosine Distance\n",
    "\n",
    "This class `newKNN` extends the original `knn` class and modifies the distance metric used to compute the distance between vectors. Instead of the Euclidean (L2) distance, this implementation uses **Cosine Distance**.\n",
    "\n",
    "Cosine Distance formula:\n",
    "$$\n",
    "\\text{cosine\\_distance}(\\mathbf{x_1}, \\mathbf{x_2}) = 1 - \\frac{\\mathbf{x_1} \\cdot \\mathbf{x_2}}{\\|\\mathbf{x_1}\\|_2 \\|\\mathbf{x_2}\\|_2}\n",
    "$$\n",
    "\n",
    "Where $\\mathbf{x_1} \\cdot \\mathbf{x_2} = \\sum_{i=1}^n x_{1i} x_{2i}$ is the dot product of the vectors $\\mathbf{x_1}$ and $\\mathbf{x_2}$, and $\\|\\mathbf{x_1}\\|_2$ and $\\|\\mathbf{x_2}\\|_2$ are their Euclidean norms.\n",
    "\n",
    "\n",
    "### Overview\n",
    "\n",
    "- **Cosine Similarity** is a measure of similarity between two vectors, calculated by the cosine of the angle between them.\n",
    "- **Cosine Distance** is defined as `1 - cosine_similarity`, where a lower value indicates higher similarity.\n",
    "\n",
    "This approach can be especially useful for text classification and other high-dimensional, sparse datasets where the magnitude of the vectors is less important than the angle between them.\n",
    "\n",
    "### Key Modifications\n",
    "\n",
    "- The `distance` method has been overridden to use **Cosine Distance** instead of the default Euclidean distance.\n",
    "\n",
    "### Class `newKNN`\n",
    "\n",
    "#### Method: `distance(self, vec1, vec2)`\n",
    "- **Parameters:**\n",
    "  - `vec1` (`np.ndarray`): The first input vector.\n",
    "  - `vec2` (`np.ndarray`): The second input vector.\n",
    "- **Returns:**\n",
    "  - `float`: The cosine distance between the two input vectors.\n",
    "\n",
    "The method calculates the **dot product** between the two vectors and their **norms**, then computes the **cosine similarity**. The **cosine distance** is the inverse of cosine similarity, which ranges from 0 (perfect similarity) to 2 (completely opposite vectors)."
   ]
  },
  {
   "cell_type": "code",
   "execution_count": 114,
   "metadata": {},
   "outputs": [
    {
     "name": "stdout",
     "output_type": "stream",
     "text": [
      "train accuracy: 0.9615\n",
      "test accuracy: 0.922\n"
     ]
    }
   ],
   "source": [
    "class newKNN(knn):\n",
    "    def distance(self, vec1, vec2):\n",
    "        # Calculate the dot product of the two vectors\n",
    "        dot_product = np.dot(vec1, vec2)\n",
    "        \n",
    "        # Calculate the norms of the vectors\n",
    "        norm_vec1 = np.linalg.norm(vec1)\n",
    "        norm_vec2 = np.linalg.norm(vec2)\n",
    "        \n",
    "        # Calculate the cosine similarity\n",
    "        cosine_similarity = dot_product / (norm_vec1 * norm_vec2)\n",
    "        \n",
    "        # Calculate the cosine distance\n",
    "        cosine_distance = 1 - cosine_similarity\n",
    "        \n",
    "        return cosine_distance\n",
    "\n",
    "myKnn = newKNN(k=4)\n",
    "myKnn.fit(X_train, Y_train)\n",
    "\n",
    "y_train_pred = myKnn.predict(X_train)\n",
    "train_accuracy = myKnn.getAccuracy(Y_train, y_train_pred)\n",
    "\n",
    "\n",
    "y_test_pred = myKnn.predict(X_test)\n",
    "test_accuracy = myKnn.getAccuracy(Y_test, y_test_pred)\n",
    "\n",
    "print(\"train accuracy: {}\\ntest accuracy: {}\".format(train_accuracy, test_accuracy))\n"
   ]
  },
  {
   "cell_type": "markdown",
   "metadata": {},
   "source": [
    "## Using a Different Dataset\n",
    "\n",
    "In this example, we are using the **Wine Dataset**, which contains various attributes of different wines. The dataset includes the following features:\n",
    "\n",
    "- **alcohol**\n",
    "- **malic_acid**\n",
    "- **ash**\n",
    "- **alcalinity_of_ash**\n",
    "- **magnesium**\n",
    "- **total_phenols**\n",
    "- **flavanoids**\n",
    "- **nonflavanoid_phenols**\n",
    "- **proanthocyanins**\n",
    "- **color_intensity**\n",
    "- **hue**\n",
    "- **od280/od315_of_diluted_wines**\n",
    "- **proline**\n",
    "\n",
    "These attributes provide detailed information about the chemical composition and characteristics of the wines, which can be used for analysis and classification tasks.\n"
   ]
  },
  {
   "cell_type": "code",
   "execution_count": 115,
   "metadata": {},
   "outputs": [
    {
     "name": "stdout",
     "output_type": "stream",
     "text": [
      "(178, 13)\n",
      "(178,)\n",
      "feature names: ['alcohol', 'malic_acid', 'ash', 'alcalinity_of_ash', 'magnesium', 'total_phenols', 'flavanoids', 'nonflavanoid_phenols', 'proanthocyanins', 'color_intensity', 'hue', 'od280/od315_of_diluted_wines', 'proline']\n",
      "target names: ['class_0' 'class_1' 'class_2']\n"
     ]
    }
   ],
   "source": [
    "wine = load_wine()\n",
    "X = wine.data\n",
    "print(X.shape)\n",
    "Y = wine.target\n",
    "print(Y.shape)\n",
    "print(\"feature names:\", wine.feature_names)\n",
    "print(\"target names:\", wine.target_names)"
   ]
  },
  {
   "cell_type": "markdown",
   "metadata": {},
   "source": [
    "## Classifying the Wine Dataset with KNN\n",
    "\n",
    "In this section, we will classify the Wine dataset using our KNN model, with the **L2 norm** (Euclidean distance) as the distance metric. The goal is to select the optimal value of **k** for the task and document the approach used to determine it.\n",
    "\n",
    "To evaluate the model, we will utilize the **KFold** cross-validation tool from Scikit-learn. This will allow us to assess the performance of the model by splitting the dataset into multiple folds and testing on different subsets of the data.\n",
    "\n",
    "### Steps:\n",
    "1. Choose the optimal value for **k**.\n",
    "2. Apply **KFold cross-validation** to assess model performance.\n",
    "3. Record the approach and results.\n"
   ]
  },
  {
   "cell_type": "code",
   "execution_count": 130,
   "metadata": {},
   "outputs": [
    {
     "name": "stdout",
     "output_type": "stream",
     "text": [
      "Optimal k value: 2\n"
     ]
    }
   ],
   "source": [
    "kf = KFold(n_splits=5, shuffle=True)\n",
    "k_values = range(1, 21)\n",
    "accur_averages = []\n",
    "for k in k_values:\n",
    "    accuracies = []\n",
    "    myKnn = knn(k)\n",
    "    for train_index, test_index in kf.split(X):\n",
    "        trainX, testX = X[train_index], X[test_index]\n",
    "        trainY, testY = Y[train_index], Y[test_index]\n",
    "        myKnn.fit(trainX, trainY)\n",
    "\n",
    "        yPred = myKnn.predict(testX)\n",
    "        accuracy = accuracy_score(testY, yPred)\n",
    "        accuracies.append(accuracy)\n",
    "\n",
    "    avgAccuracy = np.mean(accuracies)\n",
    "    accur_averages.append(avgAccuracy)\n",
    "\n",
    "# Find the optimal k value\n",
    "optimal_k = k_values[np.argmax(accur_averages)]\n",
    "print(f'Optimal k value: {optimal_k}')"
   ]
  },
  {
   "cell_type": "markdown",
   "metadata": {},
   "source": [
    "## Trying Cosine Distance with our Wine Dataset\n",
    "We will be using the **Cosine Distance** as the distance metric for our KNN model as mentioned above. "
   ]
  },
  {
   "cell_type": "code",
   "execution_count": 117,
   "metadata": {},
   "outputs": [
    {
     "name": "stdout",
     "output_type": "stream",
     "text": [
      "Average test accuracy: [np.float64(0.7384920634920635), np.float64(0.708390022675737), np.float64(0.6927579365079365), np.float64(0.6951499118165785), np.float64(0.6999206349206349)]\n"
     ]
    }
   ],
   "source": [
    "class newKNN(knn):\n",
    "    def distance(self, vec1, vec2):\n",
    "        # Calculate the dot product of the two vectors\n",
    "        dot_product = np.dot(vec1, vec2)\n",
    "        \n",
    "        # Calculate the norms of the vectors\n",
    "        norm_vec1 = np.linalg.norm(vec1)\n",
    "        norm_vec2 = np.linalg.norm(vec2)\n",
    "        \n",
    "        # Calculate the cosine similarity\n",
    "        cosine_similarity = dot_product / (norm_vec1 * norm_vec2)\n",
    "        \n",
    "        # Calculate the cosine distance\n",
    "        cosine_distance = 1 - cosine_similarity\n",
    "        \n",
    "        return cosine_distance\n",
    "\n",
    "kf = KFold(n_splits=5, shuffle=True)\n",
    "myKNN = newKNN(k=2) # using optimal k value\n",
    "myKnn.fit(X, Y)\n",
    "avg_accuracy = []\n",
    "for train_index, test_index in kf.split(X):\n",
    "    trainX, testX = X[train_index], X[test_index]\n",
    "    trainY, testY = Y[train_index], Y[test_index]\n",
    "    myKnn.fit(trainX, trainY)\n",
    "\n",
    "    yPred = myKnn.predict(testX)\n",
    "    accuracy = accuracy_score(testY, yPred)\n",
    "    accuracies.append(accuracy)\n",
    "    avgAccuracy = np.mean(accuracies)\n",
    "    avg_accuracy.append(avgAccuracy)\n",
    "\n",
    "print(f'Average test accuracy: {avg_accuracy}')"
   ]
  },
  {
   "cell_type": "markdown",
   "metadata": {},
   "source": [
    "## Normalizing the dataset before classificaiton \n",
    "We will be normalizing our X dataset before classifying it so we can improve the accuracy of our KNN model. We will be using this equation to normalize:\n",
    "\n",
    "$$ x_{ij}^{normalized} = \\frac{x_{ij} -\\mu_{j}}{\\sigma_{j}} $$\n",
    "Where $x_{ij}$ is the value of feature j of sample i, \n",
    "\n",
    "$\\mu_{j} $ and $\\sigma_{j}$ are the mean and the standard deviation of feature j."
   ]
  },
  {
   "cell_type": "code",
   "execution_count": 118,
   "metadata": {},
   "outputs": [
    {
     "name": "stdout",
     "output_type": "stream",
     "text": [
      "Average test accuracy after normalization: [np.float64(0.9722222222222222), np.float64(0.9722222222222222), np.float64(0.9629629629629629), np.float64(0.9436507936507936), np.float64(0.954920634920635)]\n"
     ]
    }
   ],
   "source": [
    "kf = KFold(n_splits=5, shuffle=True)\n",
    "accuracies = []\n",
    "\n",
    "# Normalize the dataset \n",
    "X_normalized = np.zeros_like(X, dtype=np.float64)\n",
    "for j in range(X.shape[1]):  # Loop over each feature\n",
    "    mean_j = np.mean(X[:, j])\n",
    "    std_j = np.std(X[:, j])\n",
    "    X_normalized[:, j] = (X[:, j] - mean_j) / std_j\n",
    "\n",
    "\n",
    "myKNN = newKNN(k=2) #using k = 2 since its the \"best\"\n",
    "avg_accuracy = []\n",
    "for train_index, test_index in kf.split(X_normalized):\n",
    "    trainX, testX = X_normalized[train_index], X_normalized[test_index]\n",
    "    trainY, testY = Y[train_index], Y[test_index]\n",
    "    myKnn.fit(trainX, trainY)\n",
    "\n",
    "    yPred = myKnn.predict(testX)\n",
    "    accuracy = accuracy_score(testY, yPred)\n",
    "    accuracies.append(accuracy)\n",
    "    avgAccuracy = np.mean(accuracies)\n",
    "    avg_accuracy.append(avgAccuracy)\n",
    "\n",
    "\n",
    "print(f'Average test accuracy after normalization: {avg_accuracy}')"
   ]
  },
  {
   "cell_type": "markdown",
   "metadata": {},
   "source": [
    "## Conclusion\n",
    "\n",
    "This project successfully demonstrated the implementation and evaluation of a digits classification system using the K-Nearest Neighbors (KNN) algorithm. By leveraging both Scikit-learn’s KNN implementation and a custom-built KNN model, the following insights were gained:\n",
    "\n",
    "1. **Effectiveness of KNN**: \n",
    "   - Both Scikit-learn’s KNN and the custom implementation achieved high accuracy on the MNIST subset, with scores of 91.2% and 91.4%, respectively. These results underscore the algorithm's robustness in handling image classification tasks.\n",
    "\n",
    "2. **Hyperparameter Optimization**:\n",
    "   - The number of neighbors (`k`) significantly influenced model performance. Testing various `k` values revealed that lower values (e.g., `k=5`) balanced training and test accuracy, while larger `k` values tended to overfit the training data.\n",
    "\n",
    "3. **Alternative Distance Metrics**:\n",
    "   - Incorporating cosine distance in a modified KNN model resulted in comparable or improved accuracy, especially when dealing with normalized data. For example, using cosine distance achieved a test accuracy of 92.2% on the MNIST dataset.\n",
    "\n",
    "4. **Normalization's Impact**:\n",
    "   - Normalizing datasets before classification enhanced the accuracy of KNN models, as shown in experiments on the Wine dataset. Post-normalization, the average test accuracy improved from approximately 71% to 97%, demonstrating the importance of scaling features for distance-based algorithms like KNN.\n",
    "\n",
    "5. **Visualization of Misclassifications**:\n",
    "   - By analyzing misclassified digits, key challenges in the model’s performance were identified. This visualization technique provided insights into potential improvements, such as preprocessing strategies or integrating more advanced feature extraction methods.\n",
    "\n",
    "6. **Cross-Dataset Application**:\n",
    "   - The KNN algorithm was also applied to the Wine dataset, achieving high accuracy after tuning `k` and normalizing features. This demonstrated the model’s versatility across different types of data.\n",
    "\n",
    "### Key Takeaways\n",
    "\n",
    "- The simplicity and interpretability of KNN makes it a valuable tool for classification tasks, but its reliance on distance metrics necessitates careful consideration of feature scaling and metric selection.\n",
    "- While computational efficiency can be a limitation for large datasets, optimization strategies such as reducing the dimensionality or using approximate nearest neighbor methods can alleviate these concerns.\n",
    "\n",
    "This project highlights the practical strengths and limitations of KNN, providing a foundation for its application in image recognition and beyond. Future work could explore advanced KNN techniques, such as weighted voting or integration with other machine learning methods, to further improve performance and scalability.\n"
   ]
  }
 ],
 "metadata": {
  "kernelspec": {
   "display_name": "env",
   "language": "python",
   "name": "python3"
  },
  "language_info": {
   "codemirror_mode": {
    "name": "ipython",
    "version": 3
   },
   "file_extension": ".py",
   "mimetype": "text/x-python",
   "name": "python",
   "nbconvert_exporter": "python",
   "pygments_lexer": "ipython3",
   "version": "3.13.0"
  }
 },
 "nbformat": 4,
 "nbformat_minor": 2
}
